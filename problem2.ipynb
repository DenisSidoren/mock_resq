{
 "cells": [
  {
   "cell_type": "code",
   "execution_count": 27,
   "metadata": {},
   "outputs": [],
   "source": [
    "import sqlite3\n",
    "import pandas as pd\n",
    "\n",
    "import conf\n",
    "\n",
    "\n",
    "connection = sqlite3.connect(conf.DB_NAME)\n",
    "cursor = connection.cursor()"
   ]
  },
  {
   "cell_type": "code",
   "execution_count": 28,
   "metadata": {},
   "outputs": [],
   "source": [
    "df = pd.read_sql(sql=\"SELECT * FROM analytics\", con=connection)"
   ]
  },
  {
   "cell_type": "code",
   "execution_count": 29,
   "metadata": {},
   "outputs": [
    {
     "data": {
      "text/html": [
       "<div>\n",
       "<style scoped>\n",
       "    .dataframe tbody tr th:only-of-type {\n",
       "        vertical-align: middle;\n",
       "    }\n",
       "\n",
       "    .dataframe tbody tr th {\n",
       "        vertical-align: top;\n",
       "    }\n",
       "\n",
       "    .dataframe thead th {\n",
       "        text-align: right;\n",
       "    }\n",
       "</style>\n",
       "<table border=\"1\" class=\"dataframe\">\n",
       "  <thead>\n",
       "    <tr style=\"text-align: right;\">\n",
       "      <th></th>\n",
       "      <th>user</th>\n",
       "      <th>purchase_number</th>\n",
       "      <th>total_sales</th>\n",
       "      <th>currency</th>\n",
       "      <th>favorite_segment</th>\n",
       "      <th>M0_cohort</th>\n",
       "      <th>M1_retention</th>\n",
       "      <th>lifespan_days</th>\n",
       "    </tr>\n",
       "  </thead>\n",
       "  <tbody>\n",
       "    <tr>\n",
       "      <th>0</th>\n",
       "      <td>65326324392533</td>\n",
       "      <td>1</td>\n",
       "      <td>250.0</td>\n",
       "      <td>eur</td>\n",
       "      <td>meal</td>\n",
       "      <td>2023-05</td>\n",
       "      <td>0</td>\n",
       "      <td>0</td>\n",
       "    </tr>\n",
       "    <tr>\n",
       "      <th>1</th>\n",
       "      <td>168982159910603</td>\n",
       "      <td>1</td>\n",
       "      <td>650.0</td>\n",
       "      <td>eur</td>\n",
       "      <td>snack</td>\n",
       "      <td>2023-08</td>\n",
       "      <td>0</td>\n",
       "      <td>0</td>\n",
       "    </tr>\n",
       "    <tr>\n",
       "      <th>2</th>\n",
       "      <td>219034330643057</td>\n",
       "      <td>3</td>\n",
       "      <td>2020.0</td>\n",
       "      <td>eur</td>\n",
       "      <td>meal</td>\n",
       "      <td>2022-11</td>\n",
       "      <td>1</td>\n",
       "      <td>359</td>\n",
       "    </tr>\n",
       "  </tbody>\n",
       "</table>\n",
       "</div>"
      ],
      "text/plain": [
       "              user  purchase_number  total_sales currency favorite_segment  \\\n",
       "0   65326324392533                1        250.0      eur             meal   \n",
       "1  168982159910603                1        650.0      eur            snack   \n",
       "2  219034330643057                3       2020.0      eur             meal   \n",
       "\n",
       "  M0_cohort  M1_retention  lifespan_days  \n",
       "0   2023-05             0              0  \n",
       "1   2023-08             0              0  \n",
       "2   2022-11             1            359  "
      ]
     },
     "execution_count": 29,
     "metadata": {},
     "output_type": "execute_result"
    }
   ],
   "source": [
    "df.head(3)"
   ]
  },
  {
   "cell_type": "code",
   "execution_count": 74,
   "metadata": {},
   "outputs": [
    {
     "name": "stderr",
     "output_type": "stream",
     "text": [
      "/var/folders/d7/jvw6zrm531q4bhp6_kft_0740000gn/T/ipykernel_29645/3009279054.py:2: FutureWarning: use_inf_as_na option is deprecated and will be removed in a future version. Convert inf values to NaN before operating instead.\n",
      "  pd.set_option('use_inf_as_na', True)\n"
     ]
    },
    {
     "data": {
      "text/plain": [
       "0.25    0.000000\n",
       "0.50    0.000000\n",
       "0.56    0.000000\n",
       "0.57    0.044444\n",
       "0.75    0.150000\n",
       "0.93    0.480000\n",
       "0.98    1.000000\n",
       "Name: weekly_freq, dtype: float64"
      ]
     },
     "execution_count": 74,
     "metadata": {},
     "output_type": "execute_result"
    }
   ],
   "source": [
    "# Calculate purchase frequency (weekly)\n",
    "pd.set_option('use_inf_as_na', True)\n",
    "df['weekly_freq'] = (df.purchase_number / (df.lifespan_days // 7)).fillna(0)\n",
    "df.weekly_freq.quantile([0.25,0.5,0.56,0.57,0.75,0.93,0.98])"
   ]
  },
  {
   "cell_type": "code",
   "execution_count": 75,
   "metadata": {},
   "outputs": [],
   "source": [
    "# Some frequency statistics\n",
    "# 1. Only 2% of users are making 1 and more orders per week\n",
    "# 2. Around 7% of users are making 1 order every two weeks\n",
    "# 3. Around 56% of users made only 1 order at all"
   ]
  },
  {
   "cell_type": "code",
   "execution_count": 76,
   "metadata": {},
   "outputs": [
    {
     "data": {
      "text/plain": [
       "0.25    400.000000\n",
       "0.50    590.000000\n",
       "0.75    807.223214\n",
       "Name: avg_order, dtype: float64"
      ]
     },
     "execution_count": 76,
     "metadata": {},
     "output_type": "execute_result"
    }
   ],
   "source": [
    "# Average order value analysis\n",
    "df['avg_order'] = df.total_sales / df.purchase_number\n",
    "df.avg_order.quantile([0.25,0.5,0.75])"
   ]
  },
  {
   "cell_type": "code",
   "execution_count": 80,
   "metadata": {},
   "outputs": [
    {
     "data": {
      "text/plain": [
       "838.8143674742032"
      ]
     },
     "execution_count": 80,
     "metadata": {},
     "output_type": "execute_result"
    }
   ],
   "source": [
    "# Some order statistics\n",
    "# 1. Expected order value in \"average\" can be considered as 590 euro\n",
    "# 2. Real average is much more (838 euro) because of outliers, but it's less informative when it comes to make up some expectations\n",
    "# 3. Only 25% of users have their average order amount more than 800 euro\n",
    "\n",
    "df.avg_order.mean()"
   ]
  },
  {
   "cell_type": "code",
   "execution_count": 89,
   "metadata": {},
   "outputs": [
    {
     "data": {
      "text/plain": [
       "0.250      0.0\n",
       "0.500      0.0\n",
       "0.550      1.0\n",
       "0.600     24.0\n",
       "0.775    159.0\n",
       "0.900    282.0\n",
       "Name: lifespan_days, dtype: float64"
      ]
     },
     "execution_count": 89,
     "metadata": {},
     "output_type": "execute_result"
    }
   ],
   "source": [
    "# Users' lifespan analysis\n",
    "df.lifespan_days.quantile([0.25,0.5,0.55,0.6,0.775, 0.9])"
   ]
  },
  {
   "cell_type": "code",
   "execution_count": 90,
   "metadata": {},
   "outputs": [],
   "source": [
    "# Some lifespan insights\n",
    "# 1. Around 55% of users made only 1 order, their lifespain is 0 (as it shown before)\n",
    "# 2. From those who made more than 1 order the median lifespan (0.775 quantile) is around 159 days\n",
    "# 3. 10% of users made some orders within a period of more than 280 days"
   ]
  },
  {
   "cell_type": "code",
   "execution_count": null,
   "metadata": {},
   "outputs": [],
   "source": []
  }
 ],
 "metadata": {
  "kernelspec": {
   "display_name": "main_jupyter_env",
   "language": "python",
   "name": "main_jupyter_env"
  },
  "language_info": {
   "codemirror_mode": {
    "name": "ipython",
    "version": 3
   },
   "file_extension": ".py",
   "mimetype": "text/x-python",
   "name": "python",
   "nbconvert_exporter": "python",
   "pygments_lexer": "ipython3",
   "version": "3.12.7"
  }
 },
 "nbformat": 4,
 "nbformat_minor": 2
}

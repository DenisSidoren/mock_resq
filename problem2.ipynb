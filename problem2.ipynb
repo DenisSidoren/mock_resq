{
 "cells": [
  {
   "cell_type": "code",
   "execution_count": 97,
   "metadata": {},
   "outputs": [],
   "source": [
    "import warnings\n",
    "import sqlite3\n",
    "import pandas as pd\n",
    "\n",
    "import conf\n",
    "\n",
    "\n",
    "warnings.filterwarnings('ignore')"
   ]
  },
  {
   "cell_type": "code",
   "execution_count": 98,
   "metadata": {},
   "outputs": [],
   "source": [
    "connection = sqlite3.connect(conf.DB_NAME)\n",
    "cursor = connection.cursor()\n",
    "df = pd.read_sql(sql=\"SELECT * FROM presentation\", con=connection)"
   ]
  },
  {
   "cell_type": "code",
   "execution_count": 99,
   "metadata": {},
   "outputs": [
    {
     "data": {
      "text/html": [
       "<div>\n",
       "<style scoped>\n",
       "    .dataframe tbody tr th:only-of-type {\n",
       "        vertical-align: middle;\n",
       "    }\n",
       "\n",
       "    .dataframe tbody tr th {\n",
       "        vertical-align: top;\n",
       "    }\n",
       "\n",
       "    .dataframe thead th {\n",
       "        text-align: right;\n",
       "    }\n",
       "</style>\n",
       "<table border=\"1\" class=\"dataframe\">\n",
       "  <thead>\n",
       "    <tr style=\"text-align: right;\">\n",
       "      <th></th>\n",
       "      <th>user</th>\n",
       "      <th>currency</th>\n",
       "      <th>total_sales</th>\n",
       "      <th>purchase_number</th>\n",
       "      <th>favorite_segment</th>\n",
       "      <th>M0_cohort</th>\n",
       "      <th>M1_retention</th>\n",
       "      <th>lifespan_days</th>\n",
       "    </tr>\n",
       "  </thead>\n",
       "  <tbody>\n",
       "    <tr>\n",
       "      <th>0</th>\n",
       "      <td>65326324392533</td>\n",
       "      <td>eur</td>\n",
       "      <td>250.0</td>\n",
       "      <td>1</td>\n",
       "      <td>meal</td>\n",
       "      <td>2023-05</td>\n",
       "      <td>0</td>\n",
       "      <td>0</td>\n",
       "    </tr>\n",
       "    <tr>\n",
       "      <th>1</th>\n",
       "      <td>168982159910603</td>\n",
       "      <td>eur</td>\n",
       "      <td>650.0</td>\n",
       "      <td>1</td>\n",
       "      <td>snack</td>\n",
       "      <td>2023-08</td>\n",
       "      <td>0</td>\n",
       "      <td>0</td>\n",
       "    </tr>\n",
       "    <tr>\n",
       "      <th>2</th>\n",
       "      <td>219034330643057</td>\n",
       "      <td>eur</td>\n",
       "      <td>2020.0</td>\n",
       "      <td>3</td>\n",
       "      <td>meal</td>\n",
       "      <td>2022-11</td>\n",
       "      <td>1</td>\n",
       "      <td>359</td>\n",
       "    </tr>\n",
       "  </tbody>\n",
       "</table>\n",
       "</div>"
      ],
      "text/plain": [
       "              user currency  total_sales  purchase_number favorite_segment  \\\n",
       "0   65326324392533      eur        250.0                1             meal   \n",
       "1  168982159910603      eur        650.0                1            snack   \n",
       "2  219034330643057      eur       2020.0                3             meal   \n",
       "\n",
       "  M0_cohort  M1_retention  lifespan_days  \n",
       "0   2023-05             0              0  \n",
       "1   2023-08             0              0  \n",
       "2   2022-11             1            359  "
      ]
     },
     "execution_count": 99,
     "metadata": {},
     "output_type": "execute_result"
    }
   ],
   "source": [
    "df.head(3)"
   ]
  },
  {
   "cell_type": "code",
   "execution_count": 100,
   "metadata": {},
   "outputs": [
    {
     "name": "stdout",
     "output_type": "stream",
     "text": [
      "<class 'pandas.core.frame.DataFrame'>\n",
      "RangeIndex: 123210 entries, 0 to 123209\n",
      "Data columns (total 8 columns):\n",
      " #   Column            Non-Null Count   Dtype  \n",
      "---  ------            --------------   -----  \n",
      " 0   user              123210 non-null  object \n",
      " 1   currency          123210 non-null  object \n",
      " 2   total_sales       123210 non-null  float64\n",
      " 3   purchase_number   123210 non-null  int64  \n",
      " 4   favorite_segment  123210 non-null  object \n",
      " 5   M0_cohort         123210 non-null  object \n",
      " 6   M1_retention      123210 non-null  int64  \n",
      " 7   lifespan_days     123210 non-null  int64  \n",
      "dtypes: float64(1), int64(3), object(4)\n",
      "memory usage: 7.5+ MB\n"
     ]
    }
   ],
   "source": [
    "df.info()"
   ]
  },
  {
   "cell_type": "code",
   "execution_count": 101,
   "metadata": {},
   "outputs": [
    {
     "data": {
      "text/plain": [
       "(0.738, 27.1]     0.998052\n",
       "(27.1, 53.2]      0.001753\n",
       "(53.2, 79.3]      0.000179\n",
       "(79.3, 105.4]     0.000008\n",
       "(235.9, 262.0]    0.000008\n",
       "(105.4, 131.5]    0.000000\n",
       "(131.5, 157.6]    0.000000\n",
       "(157.6, 183.7]    0.000000\n",
       "(183.7, 209.8]    0.000000\n",
       "(209.8, 235.9]    0.000000\n",
       "Name: proportion, dtype: float64"
      ]
     },
     "execution_count": 101,
     "metadata": {},
     "output_type": "execute_result"
    }
   ],
   "source": [
    "df.purchase_number.value_counts(normalize=True, bins=10)"
   ]
  },
  {
   "cell_type": "code",
   "execution_count": 102,
   "metadata": {},
   "outputs": [
    {
     "data": {
      "text/plain": [
       "0.25     1.0\n",
       "0.50     1.0\n",
       "0.75     3.0\n",
       "0.90     5.0\n",
       "0.95     7.0\n",
       "0.99    15.0\n",
       "Name: purchase_number, dtype: float64"
      ]
     },
     "execution_count": 102,
     "metadata": {},
     "output_type": "execute_result"
    }
   ],
   "source": [
    "# There is a wide range between number or purchases per user,\n",
    "# let's explore the quantiles of the column\n",
    "df.purchase_number.quantile([0.25, 0.5, 0.75, 0.9, 0.95, 0.99])"
   ]
  },
  {
   "cell_type": "code",
   "execution_count": 103,
   "metadata": {},
   "outputs": [
    {
     "name": "stdout",
     "output_type": "stream",
     "text": [
      "Only 1% of users (1441 individuals) is making  10.6 % of all purchases\n"
     ]
    }
   ],
   "source": [
    "# 99% of users make less than 15 orders during entire lifespan,\n",
    "# let's explore those 1%\n",
    "\n",
    "total_purchases = df.purchase_number.sum()\n",
    "top_users_purchases_num = df[df.purchase_number >= 15].purchase_number.sum()\n",
    "purch_made_by_tops = 100 * top_users_purchases_num / total_purchases\n",
    "top_users_num = len(df[df.purchase_number >= 15])\n",
    "\n",
    "print(f\"Only 1% of users ({top_users_num} individuals) is making {purch_made_by_tops: .1f} % of all purchases\")"
   ]
  },
  {
   "cell_type": "code",
   "execution_count": 104,
   "metadata": {},
   "outputs": [],
   "source": [
    "# When it comes to understand how valuable new customer could be, those top individuals \n",
    "# would be considered as a positive \"error\" and excluded from statistic\n",
    "\n",
    "# Further statistics would be calculated on the quantile 99 being less optimistic (and little decrease expectations)\n",
    "\n",
    "# P.S.: top users could be analyzed separately, because of their huge value for business\n",
    "\n",
    "df_q99 = df[df.purchase_number < 15]"
   ]
  },
  {
   "cell_type": "code",
   "execution_count": 105,
   "metadata": {},
   "outputs": [
    {
     "name": "stdout",
     "output_type": "stream",
     "text": [
      "In average, the user is making  2.2 orders\n",
      " 54.6% of users made only 1 order\n",
      "From those, who made more than 1 order, the average number of orders is 3.6\n"
     ]
    }
   ],
   "source": [
    "# Let's check the average purchase number\n",
    "\n",
    "avg_purchase_num = df_q99.purchase_number.mean()\n",
    "made_one_order = 100 * len(df_q99[df_q99.purchase_number == 1])/ len(df_q99)\n",
    "avg_if_several_orders = df_q99[df_q99.purchase_number > 1].purchase_number.mean()\n",
    "\n",
    "print(f\"In average, the user is making {avg_purchase_num: .1f} orders\")\n",
    "print(f\"{made_one_order: .1f}% of users made only 1 order\")\n",
    "print(f\"From those, who made more than 1 order, the average number of orders is{avg_if_several_orders: .1f}\")"
   ]
  },
  {
   "cell_type": "code",
   "execution_count": 106,
   "metadata": {},
   "outputs": [
    {
     "name": "stdout",
     "output_type": "stream",
     "text": [
      "The average value of the order is 841.3 monetary units\n",
      "For those, who made only 1 order the average value is 890.3 monetary units\n",
      "For others, the average value is 782.6 monetary units\n"
     ]
    }
   ],
   "source": [
    "# Average order value analysis\n",
    "\n",
    "df_q99['avg_order'] = df_q99.total_sales / df_q99.purchase_number\n",
    "avg_val = df_q99['avg_order'].mean()\n",
    "avg_val_one_order = df_q99[df_q99.purchase_number == 1].avg_order.mean()\n",
    "avg_val_some_orders = df_q99[df_q99.purchase_number > 1].avg_order.mean()\n",
    "\n",
    "print(f\"The average value of the order is{avg_val: .1f} monetary units\")\n",
    "print(f\"For those, who made only 1 order the average value is{avg_val_one_order: .1f} monetary units\")\n",
    "print(f\"For others, the average value is{avg_val_some_orders: .1f} monetary units\")\n"
   ]
  },
  {
   "cell_type": "code",
   "execution_count": 107,
   "metadata": {},
   "outputs": [
    {
     "data": {
      "text/plain": [
       "<Axes: >"
      ]
     },
     "execution_count": 107,
     "metadata": {},
     "output_type": "execute_result"
    },
    {
     "data": {
      "image/png": "[encoded data removed]",
      "text/plain": [
       "<Figure size 640x480 with 1 Axes>"
      ]
     },
     "metadata": {},
     "output_type": "display_data"
    }
   ],
   "source": [
    "# Users' lifespan analysis\n",
    "\n",
    "# We mentioned earlier, that 54.6% of users made only 1 order which means their lifespan is zero days.\n",
    "# For this reason it's interesting to look at the distribution of those who has a lifespan\n",
    "\n",
    "df_q99[df_q99.lifespan_days != 0].lifespan_days.hist(bins=50)\n",
    "\n",
    "# The area under the curve is pretty full, the curve itself is really smooth.\n",
    "# From the first view it seems like those, who made the second order is using the service in future "
   ]
  },
  {
   "cell_type": "code",
   "execution_count": 108,
   "metadata": {},
   "outputs": [
    {
     "name": "stdout",
     "output_type": "stream",
     "text": [
      " 45.4% of users made more than 1 order and their average lifespan is 166.4 days\n",
      "During that time (in average) they are making 3.6 orders each size of 782.6 monetary units\n"
     ]
    }
   ],
   "source": [
    "# There is some limitations from the data (info within around a year), but we can make some statistics\n",
    "\n",
    "avg_lifespan_many_orders = df_q99[df_q99.lifespan_days != 0].lifespan_days.mean()\n",
    "\n",
    "print(f\"{100-made_one_order: .1f}% of users made more than 1 order and their average lifespan is{avg_lifespan_many_orders: .1f} days\")\n",
    "print(f\"During that time (in average) they are making{avg_if_several_orders: .1f} orders each size of{avg_val_some_orders: .1f} monetary units\")"
   ]
  },
  {
   "cell_type": "code",
   "execution_count": null,
   "metadata": {},
   "outputs": [],
   "source": []
  }
 ],
 "metadata": {
  "kernelspec": {
   "display_name": "main_jupyter_env",
   "language": "python",
   "name": "main_jupyter_env"
  },
  "language_info": {
   "codemirror_mode": {
    "name": "ipython",
    "version": 3
   },
   "file_extension": ".py",
   "mimetype": "text/x-python",
   "name": "python",
   "nbconvert_exporter": "python",
   "pygments_lexer": "ipython3",
   "version": "3.12.7"
  }
 },
 "nbformat": 4,
 "nbformat_minor": 2
}
